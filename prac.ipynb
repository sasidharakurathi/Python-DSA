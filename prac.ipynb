{
 "cells": [
  {
   "cell_type": "markdown",
   "id": "890db3c5",
   "metadata": {},
   "source": [
    "### Recursions:"
   ]
  },
  {
   "cell_type": "code",
   "execution_count": null,
   "id": "4372c09d",
   "metadata": {},
   "outputs": [
    {
     "data": {
      "text/plain": [
       "[1, 2, 3, 4, 5]"
      ]
     },
     "execution_count": 7,
     "metadata": {},
     "output_type": "execute_result"
    }
   ],
   "source": [
    "# N Natural Numbers\n",
    "def n_natural_numbers(n):\n",
    "    def rec(n,i=1):\n",
    "        if i == n:\n",
    "            return [i]\n",
    "        return [i] + rec(n,i+1)\n",
    "    \n",
    "    return rec(n)\n",
    "\n",
    "n_natural_numbers(5)"
   ]
  },
  {
   "cell_type": "code",
   "execution_count": 8,
   "id": "799a6b25",
   "metadata": {},
   "outputs": [
    {
     "data": {
      "text/plain": [
       "120"
      ]
     },
     "execution_count": 8,
     "metadata": {},
     "output_type": "execute_result"
    }
   ],
   "source": [
    "# Factorial\n",
    "def factorial(n):\n",
    "    def rec(n):\n",
    "        if n == 0 or n == 1:\n",
    "            return 1\n",
    "        \n",
    "        return n * rec(n-1)\n",
    "\n",
    "    return rec(n)\n",
    "\n",
    "factorial(5)"
   ]
  },
  {
   "cell_type": "code",
   "execution_count": 10,
   "id": "94c3f0b0",
   "metadata": {},
   "outputs": [
    {
     "data": {
      "text/plain": [
       "55"
      ]
     },
     "execution_count": 10,
     "metadata": {},
     "output_type": "execute_result"
    }
   ],
   "source": [
    "# Fibonacci\n",
    "def fibonacci(n):\n",
    "    def rec(n):\n",
    "        if n == 0 or n == 1:\n",
    "            return n\n",
    "        \n",
    "        return rec(n-1) + rec(n-2)\n",
    "    \n",
    "    return rec(n)\n",
    "\n",
    "fibonacci(10)"
   ]
  },
  {
   "cell_type": "code",
   "execution_count": 11,
   "id": "745d7948",
   "metadata": {},
   "outputs": [
    {
     "data": {
      "text/plain": [
       "1389537"
      ]
     },
     "execution_count": 11,
     "metadata": {},
     "output_type": "execute_result"
    }
   ],
   "source": [
    "# Tribonacci\n",
    "def tribonacci(n):\n",
    "    '''\n",
    "        The Tribonacci sequence Tn is defined as follows: \n",
    "\n",
    "        T0 = 0, T1 = 1, T2 = 1, and Tn+3 = Tn + Tn+1 + Tn+2 for n >= 0.\n",
    "\n",
    "        Given n, return the value of Tn.\n",
    "    '''\n",
    "    \n",
    "    def rec(n):\n",
    "        if n == 0:\n",
    "            return 0\n",
    "        \n",
    "        if n == 1 or n == 2:\n",
    "            return 1\n",
    "        \n",
    "        return rec(n-1) + rec(n-2) + rec(n-3)\n",
    "    \n",
    "    return rec(n)\n",
    "\n",
    "tribonacci(25)\n",
    "    \n",
    "    "
   ]
  },
  {
   "cell_type": "code",
   "execution_count": 16,
   "id": "8d1b9950",
   "metadata": {},
   "outputs": [
    {
     "name": "stdout",
     "output_type": "stream",
     "text": [
      "True\n",
      "False\n"
     ]
    }
   ],
   "source": [
    "# isPowerOfTwo\n",
    "\n",
    "def isPowerOfTwo(n):\n",
    "    if n <= 0: return False\n",
    "    if n == 1: return True\n",
    "    if n%2 != 0: return False\n",
    "    \n",
    "    return isPowerOfTwo(n//2)\n",
    "\n",
    "print(isPowerOfTwo(32))\n",
    "print(isPowerOfTwo(39))"
   ]
  },
  {
   "cell_type": "code",
   "execution_count": 18,
   "id": "9da78333",
   "metadata": {},
   "outputs": [
    {
     "name": "stdout",
     "output_type": "stream",
     "text": [
      "True\n",
      "False\n"
     ]
    }
   ],
   "source": [
    "# isPowerOfThree\n",
    "\n",
    "def isPowerOfThree(n):\n",
    "    if n <= 0: return False\n",
    "    if n == 1: return True\n",
    "    if n%3 != 0: return False\n",
    "    \n",
    "    return isPowerOfThree(n//3)\n",
    "\n",
    "print(isPowerOfThree(27))\n",
    "print(isPowerOfThree(39))"
   ]
  },
  {
   "cell_type": "code",
   "execution_count": 19,
   "id": "4846e3a9",
   "metadata": {},
   "outputs": [
    {
     "name": "stdout",
     "output_type": "stream",
     "text": [
      "5\n"
     ]
    }
   ],
   "source": [
    "# GCD\n",
    "def GCD(a,b):\n",
    "    if b == 0:\n",
    "        return a\n",
    "    \n",
    "    return GCD(b,a%b)\n",
    "\n",
    "print(GCD(15,50))"
   ]
  },
  {
   "cell_type": "code",
   "execution_count": 20,
   "id": "df5c56d0",
   "metadata": {},
   "outputs": [
    {
     "name": "stdout",
     "output_type": "stream",
     "text": [
      "150\n"
     ]
    }
   ],
   "source": [
    "# LCM\n",
    "def LCM(a,b):\n",
    "    return (a*b)//GCD(a,b)\n",
    "\n",
    "print(LCM(15,50))"
   ]
  },
  {
   "cell_type": "code",
   "execution_count": 39,
   "id": "04819bab",
   "metadata": {},
   "outputs": [
    {
     "data": {
      "text/plain": [
       "1024"
      ]
     },
     "execution_count": 39,
     "metadata": {},
     "output_type": "execute_result"
    }
   ],
   "source": [
    "# Power(x, n)\n",
    "\n",
    "def power(x, n):\n",
    "    def rec(x, n):\n",
    "        if n == 1:\n",
    "            return x\n",
    "        \n",
    "        return x * rec(x,n-1)\n",
    "    \n",
    "    if n == 0: return 1\n",
    "    if n < 0: return 1/rec(x,-n)\n",
    "    return rec(x,n)\n",
    "        \n",
    "\n",
    "power(2,10)"
   ]
  },
  {
   "cell_type": "markdown",
   "id": "15b0a34a",
   "metadata": {},
   "source": [
    "### Stacks"
   ]
  },
  {
   "cell_type": "code",
   "execution_count": 3,
   "id": "12aadb12",
   "metadata": {},
   "outputs": [
    {
     "name": "stdout",
     "output_type": "stream",
     "text": [
      "[30, 20, 10]\n",
      "[20, 10]\n",
      "2\n",
      "20\n",
      "Stack Underflow\n"
     ]
    }
   ],
   "source": [
    "# Stack\n",
    "\n",
    "class Stack:\n",
    "    def __init__(self):\n",
    "        self.stack = []\n",
    "        \n",
    "    def push(self, data):\n",
    "        self.stack.append(data)\n",
    "    \n",
    "    def pop(self):\n",
    "        if len(self.stack) == 0:\n",
    "            print(\"Stack Underflow\")\n",
    "            return\n",
    "        return self.stack.pop()\n",
    "    \n",
    "    def top(self):\n",
    "        if len(self.stack) == 0:\n",
    "            return None\n",
    "        return self.stack[-1]\n",
    "    \n",
    "    def peek(self):\n",
    "        return len(self.stack)\n",
    "    \n",
    "    def __str__(self):\n",
    "        return f\"{self.stack[::-1]}\"\n",
    "    \n",
    "stack = Stack()\n",
    "stack.push(10)\n",
    "stack.push(20)\n",
    "stack.push(30)\n",
    "print(stack)\n",
    "stack.pop()\n",
    "print(stack)\n",
    "print(stack.peek())\n",
    "print(stack.top())\n",
    "stack.pop()\n",
    "stack.pop()\n",
    "stack.pop()\n",
    "    "
   ]
  },
  {
   "cell_type": "code",
   "execution_count": 8,
   "id": "7c376f9f",
   "metadata": {},
   "outputs": [
    {
     "name": "stdout",
     "output_type": "stream",
     "text": [
      "1\n",
      "Stack: [1, 30, 5, 10]\n",
      "Min Stack: [1, 5, 5, 10]\n",
      "Stack: [30, 5, 10]\n",
      "Min Stack: [5, 5, 10]\n",
      "3\n",
      "30\n",
      "5\n"
     ]
    },
    {
     "data": {
      "text/plain": [
       "10"
      ]
     },
     "execution_count": 8,
     "metadata": {},
     "output_type": "execute_result"
    }
   ],
   "source": [
    "# Min Stack\n",
    "class Stack:\n",
    "    def __init__(self):\n",
    "        self.stack = []\n",
    "        self.min_stack = []\n",
    "        \n",
    "    def push(self, data):\n",
    "        self.stack.append(data)\n",
    "        if self.min_stack and self.min_stack[-1] < data:\n",
    "            self.min_stack.append(self.min_stack[-1])\n",
    "        else:\n",
    "            self.min_stack.append(data)\n",
    "    \n",
    "    def pop(self):\n",
    "        if len(self.stack) == 0:\n",
    "            print(\"Stack Underflow\")\n",
    "            return\n",
    "        self.min_stack.pop()\n",
    "        return self.stack.pop()\n",
    "    \n",
    "    def top(self):\n",
    "        if len(self.stack) == 0:\n",
    "            return None\n",
    "        return self.stack[-1]\n",
    "    \n",
    "    def peek(self):\n",
    "        return len(self.stack)\n",
    "    \n",
    "    def get_min(self):\n",
    "        if len(self.min_stack) == 0:\n",
    "            return None\n",
    "        \n",
    "        return self.min_stack[-1]\n",
    "    \n",
    "    def __str__(self):\n",
    "        return f\"Stack: {self.stack[::-1]}\\nMin Stack: {self.min_stack[::-1]}\"\n",
    "    \n",
    "stack = Stack()\n",
    "stack.push(10)\n",
    "stack.push(5)\n",
    "stack.push(30)\n",
    "stack.push(1)\n",
    "print(stack.get_min())\n",
    "print(stack)\n",
    "stack.pop()\n",
    "print(stack)\n",
    "print(stack.peek())\n",
    "print(stack.top())\n",
    "print(stack.get_min())\n",
    "stack.pop()\n",
    "stack.pop()\n",
    "stack.pop()\n",
    "    "
   ]
  },
  {
   "cell_type": "code",
   "execution_count": 11,
   "id": "8a9834aa",
   "metadata": {},
   "outputs": [
    {
     "name": "stdout",
     "output_type": "stream",
     "text": [
      "[10, 20, 30]\n",
      "[10, 20]\n",
      "2\n",
      "20\n",
      "queue Underflow\n"
     ]
    }
   ],
   "source": [
    "# queue Using Queues\n",
    "class Stack:\n",
    "    def __init__(self):\n",
    "        self.queue = []\n",
    "        \n",
    "    def push(self, data):\n",
    "        self.queue.append(data)\n",
    "        for i in range(len(self.queue)-1):\n",
    "            self.queue.append(self.queue.pop(0))\n",
    "    \n",
    "    def pop(self):\n",
    "        if len(self.queue) == 0:\n",
    "            print(\"queue Underflow\")\n",
    "            return\n",
    "        return self.queue.pop(0)\n",
    "    \n",
    "    def top(self):\n",
    "        if len(self.queue) == 0:\n",
    "            return None\n",
    "        return self.queue[0]\n",
    "    \n",
    "    def peek(self):\n",
    "        return len(self.queue)\n",
    "    \n",
    "    def __str__(self):\n",
    "        return f\"{self.queue[::-1]}\"\n",
    "    \n",
    "stack = Stack()\n",
    "stack.push(10)\n",
    "stack.push(20)\n",
    "stack.push(30)\n",
    "print(stack)\n",
    "stack.pop()\n",
    "print(stack)\n",
    "print(stack.peek())\n",
    "print(stack.top())\n",
    "stack.pop()\n",
    "stack.pop()\n",
    "stack.pop()\n",
    "    "
   ]
  },
  {
   "cell_type": "markdown",
   "id": "c21d17cb",
   "metadata": {},
   "source": [
    "### Queues"
   ]
  },
  {
   "cell_type": "code",
   "execution_count": 17,
   "id": "96fcb023",
   "metadata": {},
   "outputs": [
    {
     "name": "stdout",
     "output_type": "stream",
     "text": [
      "[10, 20, 30]\n",
      "[10, 20, 30]\n",
      "1\n",
      "2\n",
      "queue Underflow\n"
     ]
    }
   ],
   "source": [
    "# queues\n",
    "\n",
    "class Queue:\n",
    "    def __init__(self, capacity):\n",
    "        self.queue = [None] * capacity\n",
    "        self.front = -1\n",
    "        self.rare = -1\n",
    "        self.capacity = capacity\n",
    "        \n",
    "    def is_full(self):\n",
    "        return self.rare == self.capacity - 1\n",
    "    \n",
    "    def is_empty(self):\n",
    "        return self.front == -1\n",
    "        \n",
    "    def enqueue(self, data):\n",
    "        if self.is_full():\n",
    "            print(\"queue Overflow\")\n",
    "            return\n",
    "        \n",
    "        if self.is_empty():\n",
    "            self.front = 0\n",
    "        \n",
    "        self.rare += 1\n",
    "        self.queue[self.rare] = data\n",
    "    \n",
    "    def dequeue(self):\n",
    "        if self.is_empty():\n",
    "            print(\"queue Underflow\")\n",
    "            return\n",
    "        \n",
    "        data = self.queue[self.front]\n",
    "        self.front += 1\n",
    "        \n",
    "        if self.front > self.rare:\n",
    "            self.front = self.rare = -1\n",
    "        \n",
    "        return data\n",
    "    \n",
    "    def get_front(self):\n",
    "        return self.front\n",
    "    \n",
    "    def get_rare(self):\n",
    "        return self.rare\n",
    "    \n",
    "    def __str__(self):\n",
    "        return f\"{self.queue[:self.rare+1]}\"\n",
    "    \n",
    "    \n",
    "queue = Queue(10)\n",
    "queue.enqueue(10)\n",
    "queue.enqueue(20)\n",
    "queue.enqueue(30)\n",
    "print(queue)\n",
    "queue.dequeue()\n",
    "print(queue)\n",
    "print(queue.get_front())\n",
    "print(queue.get_rare())\n",
    "queue.dequeue()\n",
    "queue.dequeue()\n",
    "queue.dequeue() \n",
    "    \n",
    "    \n",
    "    "
   ]
  },
  {
   "cell_type": "code",
   "execution_count": 22,
   "id": "d6af4cfe",
   "metadata": {},
   "outputs": [
    {
     "name": "stdout",
     "output_type": "stream",
     "text": [
      "[30, 20]\n",
      "[30, 20]\n",
      "1\n",
      "0\n",
      "queue Underflow\n"
     ]
    }
   ],
   "source": [
    "# Circular Queue\n",
    "class CircularQueue:\n",
    "    def __init__(self, capacity):\n",
    "        self.queue = [None] * capacity\n",
    "        self.capacity = capacity\n",
    "        self.front = -1\n",
    "        self.rare = -1\n",
    "    \n",
    "    def is_full(self):\n",
    "        return (self.rare + 1) % self.capacity == self.front\n",
    "    \n",
    "    def is_empty(self):\n",
    "        return self.front == -1\n",
    "    \n",
    "    def enqueue(self, data):\n",
    "        if self.is_full():\n",
    "            print(\"queue Overflow\")\n",
    "            return\n",
    "        \n",
    "        if self.is_empty():\n",
    "            self.front = self.rare = 0\n",
    "        else:\n",
    "            self.rare = (self.rare + 1) % self.capacity\n",
    "            \n",
    "        self.queue[self.rare] = data        \n",
    "    \n",
    "    def dequeue(self):\n",
    "        if self.is_empty():\n",
    "            print(\"queue Underflow\")\n",
    "            return\n",
    "        \n",
    "        data = self.queue[self.front]\n",
    "        \n",
    "        if self.front == self.rare:\n",
    "            self.front = self.rare = -1\n",
    "        else:\n",
    "            self.front = (self.front + 1) % self.capacity\n",
    "            \n",
    "        return data\n",
    "    \n",
    "    def get_front(self):\n",
    "        return self.front\n",
    "    \n",
    "    def get_rare(self):\n",
    "        return self.rare\n",
    "    \n",
    "    def __str__(self):\n",
    "        return f\"{self.queue}\"\n",
    "    \n",
    "    \n",
    "queue = CircularQueue(2)\n",
    "queue.enqueue(10)\n",
    "queue.enqueue(20)\n",
    "queue.dequeue()\n",
    "queue.enqueue(30)\n",
    "print(queue)\n",
    "print(queue)\n",
    "print(queue.get_front())\n",
    "print(queue.get_rare())\n",
    "queue.dequeue()\n",
    "queue.dequeue()\n",
    "queue.dequeue() "
   ]
  },
  {
   "cell_type": "code",
   "execution_count": 26,
   "id": "ee9f012b",
   "metadata": {},
   "outputs": [
    {
     "name": "stdout",
     "output_type": "stream",
     "text": [
      "deque([10, 20, 30])\n",
      "deque([50, 40, 10, 20, 30])\n",
      "30\n",
      "50\n",
      "deque([40, 10, 20])\n"
     ]
    }
   ],
   "source": [
    "# Deque (Double-Ended)\n",
    "from collections import deque\n",
    "\n",
    "queue = deque()\n",
    "queue.append(10)\n",
    "queue.append(20)\n",
    "queue.append(30)\n",
    "print(queue)\n",
    "queue.appendleft(40)\n",
    "queue.appendleft(50)\n",
    "print(queue)\n",
    "print(queue.pop())\n",
    "print(queue.popleft())\n",
    "print(queue)"
   ]
  },
  {
   "cell_type": "code",
   "execution_count": 31,
   "id": "57ec54bd",
   "metadata": {},
   "outputs": [
    {
     "name": "stdout",
     "output_type": "stream",
     "text": [
      "[10, 20, 30]\n",
      "[20, 30]\n",
      "Queue underflow\n"
     ]
    }
   ],
   "source": [
    "# Queue using Stack\n",
    "\n",
    "class Queue:\n",
    "    def __init__(self):\n",
    "        self.stack1 = []\n",
    "        self.stack2 = []\n",
    "    \n",
    "    def enqueue(self, data):\n",
    "        self.stack1.append(data)\n",
    "    \n",
    "    def dequeue(self):\n",
    "        if not self.stack2:\n",
    "            while self.stack1:\n",
    "                self.stack2.append(self.stack1.pop())\n",
    "        if not self.stack2:\n",
    "            print(\"Queue underflow\")\n",
    "            return\n",
    "        \n",
    "        return self.stack2.pop()\n",
    "    \n",
    "    def is_empty(self):\n",
    "        return not self.stack1 and not self.stack2\n",
    "\n",
    "    def __str__(self):\n",
    "        while self.stack1:\n",
    "            self.stack2.append(self.stack1.pop())\n",
    "        \n",
    "        return f\"{self.stack2[::-1]}\"\n",
    "\n",
    "queue = Queue()\n",
    "queue.enqueue(10)\n",
    "queue.enqueue(20)\n",
    "queue.enqueue(30)\n",
    "print(queue)\n",
    "queue.dequeue()\n",
    "print(queue)\n",
    "queue.dequeue()\n",
    "queue.dequeue()\n",
    "queue.dequeue() \n",
    "    "
   ]
  },
  {
   "cell_type": "markdown",
   "id": "9406310b",
   "metadata": {},
   "source": [
    "### Hashing"
   ]
  },
  {
   "cell_type": "code",
   "execution_count": 33,
   "id": "d887a8b5",
   "metadata": {},
   "outputs": [
    {
     "name": "stdout",
     "output_type": "stream",
     "text": [
      "{1: 2, 2: 2, 3: 1, 4: 1}\n"
     ]
    }
   ],
   "source": [
    "# Hashmap (using dictionaries)\n",
    "from collections import defaultdict\n",
    "\n",
    "arr = [1, 2, 2, 3, 1, 4]\n",
    "hashmap = defaultdict(int)\n",
    "\n",
    "for ele in arr:\n",
    "    hashmap[ele] += 1\n",
    "\n",
    "print(dict(hashmap))\n"
   ]
  },
  {
   "cell_type": "code",
   "execution_count": 40,
   "id": "c2e0825b",
   "metadata": {},
   "outputs": [
    {
     "name": "stdout",
     "output_type": "stream",
     "text": [
      "Duplicate found\n",
      "{1, 2, 3, 4}\n"
     ]
    }
   ],
   "source": [
    "# Hashsets (using sets)\n",
    "\n",
    "nums = [1, 2, 3, 4, 2]\n",
    "hashset = set()\n",
    "\n",
    "for num in nums:\n",
    "    if num in hashset:\n",
    "        print(\"Duplicate found\")\n",
    "    hashset.add(num)\n",
    "\n",
    "print(hashset)"
   ]
  },
  {
   "cell_type": "code",
   "execution_count": 43,
   "id": "3b9d2153",
   "metadata": {},
   "outputs": [
    {
     "name": "stdout",
     "output_type": "stream",
     "text": [
      "[['bat', 'tab'], ['cat', 'act']]\n"
     ]
    }
   ],
   "source": [
    "# Hashing Strings\n",
    "from collections import defaultdict\n",
    "\n",
    "words = [\"bat\", \"tab\", \"cat\", \"act\"]\n",
    "anagram = defaultdict(list)\n",
    "\n",
    "for word in words:\n",
    "    key = ''.join(sorted(word))\n",
    "    anagram[key].append(word)\n",
    "    \n",
    "print(list(anagram.values()))"
   ]
  },
  {
   "cell_type": "code",
   "execution_count": 59,
   "id": "c047d21e",
   "metadata": {},
   "outputs": [
    {
     "name": "stdout",
     "output_type": "stream",
     "text": [
      "{(1, 2): 2, (3, 4): 1}\n"
     ]
    }
   ],
   "source": [
    "# Custom Hashing for Tuples or Complex Key\n",
    "from collections import defaultdict\n",
    "\n",
    "points = [(1, 2), (3, 4), (1, 2)]\n",
    "hashmap = defaultdict(int)\n",
    "\n",
    "for point in points:\n",
    "    hashmap[point] += 1\n",
    "\n",
    "print(dict(hashmap))"
   ]
  },
  {
   "cell_type": "markdown",
   "id": "de625648",
   "metadata": {},
   "source": [
    "### Linked Lists"
   ]
  },
  {
   "cell_type": "code",
   "execution_count": 63,
   "id": "e14d9d87",
   "metadata": {},
   "outputs": [
    {
     "name": "stdout",
     "output_type": "stream",
     "text": [
      "10 -> 20 -> 30 -> None\n",
      "20\n",
      "False\n",
      "30 -> 20 -> 10 -> None\n",
      "True\n",
      "30 -> 10 -> None\n"
     ]
    }
   ],
   "source": [
    "# Singly Linked List\n",
    "\n",
    "class Node:\n",
    "    def __init__(self, data):\n",
    "        self.data = data\n",
    "        self.next = None\n",
    "        \n",
    "class SingleLinkedList:\n",
    "    def __init__(self):\n",
    "        self.head = None\n",
    "        \n",
    "    def insert_at_head(self, data):\n",
    "        nn = Node(data)\n",
    "        if self.head is None:\n",
    "            self.head = nn\n",
    "            return\n",
    "        nn.next = self.head\n",
    "        self.head = nn\n",
    "    \n",
    "    def insert_at_tail(self, data):\n",
    "        nn = Node(data)\n",
    "        if self.head is None:\n",
    "            self.head = nn\n",
    "            return\n",
    "        \n",
    "        temp = self.head\n",
    "        while temp.next:\n",
    "            temp = temp.next\n",
    "        temp.next = nn\n",
    "    \n",
    "    def delete_by_value(self, data):\n",
    "        if self.head and self.head.data == data:\n",
    "            self.head = self.head.next\n",
    "            return\n",
    "        \n",
    "        temp = self.head\n",
    "        prev = None\n",
    "        while temp and temp.data != data:\n",
    "            prev = temp\n",
    "            temp = temp.next\n",
    "            \n",
    "        if temp is None:\n",
    "            return \n",
    "        \n",
    "        prev.next = temp.next\n",
    "        \n",
    "    \n",
    "    def search(self, data):\n",
    "        temp = self.head\n",
    "        \n",
    "        while temp:\n",
    "            if temp.data == data:\n",
    "                return True\n",
    "            temp = temp.next\n",
    "            \n",
    "        return False\n",
    "    \n",
    "    def reverse(self):\n",
    "        prev = None\n",
    "        current = self.head\n",
    "        while current:\n",
    "            next_node = current.next\n",
    "            current.next = prev\n",
    "            prev = current\n",
    "            current = next_node\n",
    "        \n",
    "        self.head = prev\n",
    "    \n",
    "    def find_middle(self):\n",
    "        if self.head is None:\n",
    "            return \n",
    "        \n",
    "        slow = self.head\n",
    "        fast = self.head\n",
    "        \n",
    "        while fast and fast.next:\n",
    "            slow = slow.next\n",
    "            fast = fast.next.next\n",
    "        \n",
    "        return slow.data\n",
    "    \n",
    "    def check_cycle(self):\n",
    "        if self.head is None:\n",
    "            return \n",
    "        \n",
    "        slow = self.head\n",
    "        fast = self.head\n",
    "        \n",
    "        while fast and fast.next:\n",
    "            slow = slow.next\n",
    "            fast = fast.next.next\n",
    "            \n",
    "            if slow == fast:\n",
    "                return True\n",
    "        \n",
    "        return False\n",
    "    \n",
    "    def print(self):\n",
    "        if self.head is None:\n",
    "            print(\"List Empty\")\n",
    "            return\n",
    "        temp = self.head\n",
    "        while temp:\n",
    "            print(temp.data , end=\" -> \")\n",
    "            temp = temp.next\n",
    "        print(None)\n",
    "        \n",
    "sll = SingleLinkedList()\n",
    "sll.insert_at_head(10)\n",
    "sll.insert_at_tail(20)\n",
    "sll.insert_at_tail(30)\n",
    "sll.print()         # Output: 10 -> 20 -> 30 -> None\n",
    "print(sll.find_middle())\n",
    "print(sll.check_cycle())\n",
    "sll.reverse()\n",
    "sll.print()         # Output: 30 -> 20 -> 10 -> None\n",
    "print(sll.search(20))    # Output: True\n",
    "sll.delete_by_value(20)\n",
    "sll.print()         # Output: 30 -> 10 -> None"
   ]
  },
  {
   "cell_type": "code",
   "execution_count": 65,
   "id": "a479545e",
   "metadata": {},
   "outputs": [
    {
     "name": "stdout",
     "output_type": "stream",
     "text": [
      "10 <-> 20 <-> 30 <-> None\n",
      "30 <-> 20 <-> 10 <-> None\n",
      "10 <-> 30 <-> None\n"
     ]
    }
   ],
   "source": [
    "# Doubly Linked List\n",
    "class Node:\n",
    "    def __init__(self, data):\n",
    "        self.data = data\n",
    "        self.next = None\n",
    "        self.prev = None\n",
    "        \n",
    "class DoubleLinkedList:\n",
    "    def __init__(self):\n",
    "        self.head = None\n",
    "        \n",
    "    def insert_at_head(self,data):\n",
    "        nn = Node(data)\n",
    "        if self.head is None:\n",
    "            self.head = nn\n",
    "            return\n",
    "        \n",
    "        nn.next = self.head\n",
    "        self.head.prev = nn\n",
    "        self.head = nn\n",
    "    \n",
    "    def insert_at_tail(self, data):\n",
    "        nn = Node(data)\n",
    "        if self.head is None:\n",
    "            self.head = nn\n",
    "            return\n",
    "        temp = self.head\n",
    "        while temp.next:\n",
    "            temp = temp.next\n",
    "        nn.prev = temp\n",
    "        temp.next = nn\n",
    "    \n",
    "    def delete_node(self, data):\n",
    "        temp = self.head\n",
    "        \n",
    "        while temp and temp.data != data:\n",
    "            temp = temp.next\n",
    "            \n",
    "        if temp is None:\n",
    "            return\n",
    "        \n",
    "        if temp == self.head:\n",
    "            self.head = temp.next\n",
    "            if self.head:\n",
    "                self.head.prev = None\n",
    "            return\n",
    "        \n",
    "        if temp.next is None:\n",
    "            temp.prev.next = None\n",
    "            return\n",
    "        \n",
    "        temp.next.prev = temp.prev\n",
    "        temp.prev.next = temp.next\n",
    "    \n",
    "    def print_forward(self):\n",
    "        temp = self.head\n",
    "        while temp:\n",
    "            print(temp.data,end=\" <-> \")\n",
    "            temp = temp.next\n",
    "        print(None)\n",
    "    \n",
    "    def print_backward(self):\n",
    "        temp = self.head\n",
    "        while temp.next:\n",
    "            temp = temp.next\n",
    "        \n",
    "        while temp:\n",
    "            print(temp.data , end=\" <-> \")\n",
    "            temp = temp.prev\n",
    "        print(None)\n",
    "\n",
    "dll = DoubleLinkedList()\n",
    "dll.insert_at_head(10)\n",
    "dll.insert_at_tail(20)\n",
    "dll.insert_at_tail(30)\n",
    "dll.print_forward()     # Output: 10 <-> 20 <-> 30 <-> None\n",
    "dll.print_backward()    # Output: 30 <-> 20 <-> 10 <-> None\n",
    "dll.delete_node(20)\n",
    "dll.print_forward()     # Output: 10 <-> 30 <-> None\n"
   ]
  },
  {
   "cell_type": "code",
   "execution_count": 67,
   "id": "5d7d5613",
   "metadata": {},
   "outputs": [
    {
     "name": "stdout",
     "output_type": "stream",
     "text": [
      "10 -> 20 -> 30 -> (back to start)\n",
      "10 -> 30 -> (back to start)\n"
     ]
    }
   ],
   "source": [
    "# Circular Linked List\n",
    "\n",
    "\n",
    "class Node:\n",
    "    def __init__(self, data):\n",
    "        self.data = data\n",
    "        self.next = None\n",
    "\n",
    "class CircularLinkedList:\n",
    "    def __init__(self):\n",
    "        self.last = None\n",
    "\n",
    "    def insert_at_end(self, data):\n",
    "        new_node = Node(data)\n",
    "        if not self.last:\n",
    "            self.last = new_node\n",
    "            self.last.next = self.last\n",
    "        else:\n",
    "            new_node.next = self.last.next\n",
    "            self.last.next = new_node\n",
    "            self.last = new_node\n",
    "\n",
    "    def insert_at_beginning(self, data):\n",
    "        new_node = Node(data)\n",
    "        if not self.last:\n",
    "            self.last = new_node\n",
    "            self.last.next = self.last\n",
    "        else:\n",
    "            new_node.next = self.last.next\n",
    "            self.last.next = new_node\n",
    "\n",
    "    def delete_node(self, key):\n",
    "        if not self.last:\n",
    "            return\n",
    "\n",
    "        temp = self.last.next\n",
    "        prev = self.last\n",
    "\n",
    "        while temp.data != key:\n",
    "            if temp == self.last:\n",
    "                return\n",
    "            prev = temp\n",
    "            temp = temp.next\n",
    "\n",
    "        if temp == self.last and temp.next == self.last:\n",
    "            self.last = None\n",
    "        elif temp == self.last:\n",
    "            prev.next = temp.next\n",
    "            self.last = prev\n",
    "        else:\n",
    "            prev.next = temp.next\n",
    "\n",
    "    def print_list(self):\n",
    "        if not self.last:\n",
    "            print(\"List is empty\")\n",
    "            return\n",
    "        temp = self.last.next\n",
    "        while True:\n",
    "            print(temp.data, end=\" -> \")\n",
    "            temp = temp.next\n",
    "            if temp == self.last.next:\n",
    "                break\n",
    "        print(\"(back to start)\")\n",
    "\n",
    "\n",
    "cll = CircularLinkedList()\n",
    "cll.insert_at_end(10)\n",
    "cll.insert_at_end(20)\n",
    "cll.insert_at_end(30)\n",
    "cll.print_list()         # Output: 10 -> 20 -> 30 -> (back to start)\n",
    "cll.delete_node(20)\n",
    "cll.print_list()         # Output: 10 -> 30 -> (back to start)"
   ]
  },
  {
   "cell_type": "markdown",
   "id": "ec3ec6e8",
   "metadata": {},
   "source": [
    "### Binary Search"
   ]
  },
  {
   "cell_type": "code",
   "execution_count": 74,
   "id": "8998cfa4",
   "metadata": {},
   "outputs": [
    {
     "name": "stdout",
     "output_type": "stream",
     "text": [
      "4\n",
      "2\n",
      "1\n",
      "-1\n"
     ]
    }
   ],
   "source": [
    "# Standard Binary Search\n",
    "\n",
    "def binary_search(nums, key):\n",
    "    low , high = 0, len(nums)-1\n",
    "    \n",
    "    while low <= high:\n",
    "        mid = (low + high) // 2\n",
    "        if nums[mid] == key:\n",
    "            return mid\n",
    "        elif nums[mid] < key:\n",
    "            low = mid+1\n",
    "        else:\n",
    "            high = mid-1\n",
    "    \n",
    "    return -1\n",
    "\n",
    "\n",
    "arr = [10,20,30,40,50]\n",
    "print(binary_search(arr,50))    # Output: 4\n",
    "print(binary_search(arr,30))    # Output: 2\n",
    "print(binary_search(arr,20))    # Output: 1\n",
    "print(binary_search(arr,90))    # Output: -1"
   ]
  },
  {
   "cell_type": "code",
   "execution_count": null,
   "id": "c74baff2",
   "metadata": {},
   "outputs": [
    {
     "name": "stdout",
     "output_type": "stream",
     "text": [
      "1\n",
      "4\n",
      "1\n",
      "4\n"
     ]
    }
   ],
   "source": [
    "# Lower Bound / Upper Bound\n",
    "\n",
    "def lower_bound(nums, key):\n",
    "    low , high = 0, len(nums)-1\n",
    "    \n",
    "    while low <= high:\n",
    "        mid = low + (high - low)//2\n",
    "        if nums[mid] < key:\n",
    "            low = mid + 1\n",
    "        else:\n",
    "            high = mid - 1\n",
    "    \n",
    "    return low\n",
    "\n",
    "def upper_bound(nums, key):\n",
    "    low , high = 0, len(nums)-1\n",
    "    \n",
    "    while low <= high:\n",
    "        mid = low + (high - low) // 2\n",
    "        if nums[mid] <= key:\n",
    "            low = mid + 1\n",
    "        else:\n",
    "            high = mid - 1\n",
    "    \n",
    "    return mid\n",
    "\n",
    "arr = [1, 2, 2, 2, 3, 4, 5]\n",
    "target = 2\n",
    "\n",
    "print(lower_bound(arr, target))  # Output: 1\n",
    "print(upper_bound(arr, target))  # Output: 4\n",
    "\n",
    "\n",
    "# # Predefined Methods\n",
    "import bisect\n",
    "print(bisect.bisect_left(arr, target))  # Lower Bound\n",
    "print(bisect.bisect_right(arr, target)) # Upper Bound\n"
   ]
  },
  {
   "cell_type": "code",
   "execution_count": 79,
   "id": "da886750",
   "metadata": {},
   "outputs": [
    {
     "name": "stdout",
     "output_type": "stream",
     "text": [
      "1\n",
      "1\n",
      "2\n"
     ]
    }
   ],
   "source": [
    "# Search Insert Position\n",
    "def search_insert_position(arr, target):\n",
    "    low, high = 0, len(arr)-1\n",
    "    \n",
    "    while low<=high:\n",
    "        mid = low + (high - low) // 2\n",
    "        \n",
    "        if arr[mid] == target:\n",
    "            return mid\n",
    "        elif arr[mid] < target:\n",
    "            low = mid + 1\n",
    "        else:\n",
    "            high = mid - 1\n",
    "    \n",
    "    return low\n",
    "\n",
    "arr = [1, 3, 5, 6]\n",
    "target = 2\n",
    "print(search_insert_position(arr, target))  # Output: 1\n",
    "target = 3\n",
    "print(search_insert_position(arr, target))  # Output: 1\n",
    "target = 5\n",
    "print(search_insert_position(arr, target))  # Output: 2"
   ]
  },
  {
   "cell_type": "code",
   "execution_count": 80,
   "id": "e06c7ccd",
   "metadata": {},
   "outputs": [
    {
     "name": "stdout",
     "output_type": "stream",
     "text": [
      "1\n",
      "3\n",
      "-1\n",
      "-1\n"
     ]
    }
   ],
   "source": [
    "# First and Last Occurrence\n",
    "def first_occurrence(arr,target):\n",
    "    low, high = 0, len(arr)-1\n",
    "    \n",
    "    while low<=high:\n",
    "        mid = low + (high - low) // 2\n",
    "\n",
    "        if arr[mid] < target:\n",
    "            low = mid + 1\n",
    "        else:\n",
    "            high = mid - 1\n",
    "    \n",
    "    if low < len(arr) and arr[low] == target:\n",
    "        return low\n",
    "    return -1\n",
    "\n",
    "def last_occurrence(arr,target):\n",
    "    low, high = 0, len(arr)-1\n",
    "    \n",
    "    while low<=high:\n",
    "        mid = low + (high-low)//2\n",
    "        \n",
    "        if arr[mid] <= target:\n",
    "            low = mid + 1\n",
    "        else:\n",
    "            high = mid - 1\n",
    "    \n",
    "    if low-1 >= 0 and arr[low-1] == target:\n",
    "        return low-1\n",
    "    return -1 \n",
    "\n",
    "arr = [1, 2, 2, 2, 3, 4, 5]\n",
    "target = 2\n",
    "\n",
    "print(first_occurrence(arr, target))  # Output: 1\n",
    "print(last_occurrence(arr, target))   # Output: 3\n",
    "\n",
    "\n",
    "arr = [1, 3, 4, 5]\n",
    "target = 2\n",
    "\n",
    "print(first_occurrence(arr, target))  # Output: -1\n",
    "print(last_occurrence(arr, target))    # Output: -1"
   ]
  },
  {
   "cell_type": "markdown",
   "id": "8c77e076",
   "metadata": {},
   "source": [
    "### Tree"
   ]
  },
  {
   "cell_type": "code",
   "execution_count": null,
   "id": "11372f83",
   "metadata": {},
   "outputs": [],
   "source": []
  },
  {
   "cell_type": "markdown",
   "id": "e5520e1f",
   "metadata": {},
   "source": [
    "### Heaps (Priority Queues)"
   ]
  },
  {
   "cell_type": "code",
   "execution_count": 81,
   "id": "32743e6f",
   "metadata": {},
   "outputs": [
    {
     "name": "stdout",
     "output_type": "stream",
     "text": [
      "[1, 5, 3, 7]\n",
      "1\n",
      "[7, 5]\n"
     ]
    }
   ],
   "source": [
    "import heapq\n",
    "\n",
    "h = []\n",
    "heapq.heapify(h) # Default Min Heap is created\n",
    "\n",
    "heapq.heappush(h, 5)\n",
    "heapq.heappush(h, 1)\n",
    "heapq.heappush(h, 3)\n",
    "heapq.heappush(h, 7)\n",
    "\n",
    "print(h)                                                        # Output: [1, 5, 3, 7]\n",
    "print(heapq.heappop(h))                                         # Output: 1\n",
    "print(heapq.nlargest(2,h))                                      # Output: [7,5]"
   ]
  },
  {
   "cell_type": "code",
   "execution_count": 84,
   "id": "2caf9c2d",
   "metadata": {},
   "outputs": [
    {
     "name": "stdout",
     "output_type": "stream",
     "text": [
      "5\n",
      "4\n"
     ]
    }
   ],
   "source": [
    "import heapq\n",
    "\n",
    "# Kth Largest Element in an Array\n",
    "def kth_larget_element(nums, k):\n",
    "    '''\n",
    "        Given an integer array nums and an integer k, return the kth largest element in the array.\n",
    "\n",
    "        Note that it is the kth largest element in the sorted order, not the kth distinct element.\n",
    "\n",
    "        Can you solve it without sorting?\n",
    "    '''\n",
    "    \n",
    "    heap = []\n",
    "    for ele in nums:\n",
    "        heapq.heappush(heap , ele)\n",
    "        if len(heap) > k:\n",
    "            heapq.heappop(heap)\n",
    "    \n",
    "    return heap[0]\n",
    "    \n",
    "print(kth_larget_element([3,2,1,5,6,4], 2))                     # Output: 5\n",
    "print(kth_larget_element([3,2,3,1,2,4,5,5,6], 4))               # Output: 4"
   ]
  },
  {
   "cell_type": "code",
   "execution_count": 86,
   "id": "ee814f00",
   "metadata": {},
   "outputs": [
    {
     "name": "stdout",
     "output_type": "stream",
     "text": [
      "1\n",
      "1\n"
     ]
    }
   ],
   "source": [
    "def last_stone_weight(stones):\n",
    "    '''\n",
    "        You are given an array of integers stones where stones[i] is the weight of the ith stone.\n",
    "\n",
    "        We are playing a game with the stones. On each turn, we choose the heaviest two stones and smash them together. Suppose the heaviest two stones have weights x and y with x <= y. The result of this smash is:\n",
    "\n",
    "        If x == y, both stones are destroyed, and\n",
    "        If x != y, the stone of weight x is destroyed, and the stone of weight y has new weight y - x.\n",
    "        At the end of the game, there is at most one stone left.\n",
    "\n",
    "        Return the weight of the last remaining stone. If there are no stones left, return 0.\n",
    "        \n",
    "        Example 1:\n",
    "            Input: stones = [2,7,4,1,8,1]\n",
    "            Output: 1\n",
    "            Explanation: \n",
    "                We combine 7 and 8 to get 1 so the array converts to [2,4,1,1,1] then,\n",
    "                we combine 2 and 4 to get 2 so the array converts to [2,1,1,1] then,\n",
    "                we combine 2 and 1 to get 1 so the array converts to [1,1,1] then,\n",
    "                we combine 1 and 1 to get 0 so the array converts to [1] then that's the value of the last stone.\n",
    "    '''\n",
    "    max_heap = []\n",
    "    \n",
    "    for stone in stones:\n",
    "       heapq.heappush(max_heap, -stone)\n",
    "    \n",
    "    while len(max_heap) > 1:\n",
    "        stone1, stone2 = -heapq.heappop(max_heap), -heapq.heappop(max_heap)\n",
    "        if stone1 == stone2:\n",
    "            continue\n",
    "        heapq.heappush(max_heap , -(stone1-stone2))\n",
    "        \n",
    "    if len(max_heap) == 1:\n",
    "        return - heapq.heappop(max_heap)\n",
    "\n",
    "print(last_stone_weight([2,7,4,1,8,1]))                         # Output: 1\n",
    "print(last_stone_weight([1]))                                   # Output: 1"
   ]
  }
 ],
 "metadata": {
  "kernelspec": {
   "display_name": "Python 3",
   "language": "python",
   "name": "python3"
  },
  "language_info": {
   "codemirror_mode": {
    "name": "ipython",
    "version": 3
   },
   "file_extension": ".py",
   "mimetype": "text/x-python",
   "name": "python",
   "nbconvert_exporter": "python",
   "pygments_lexer": "ipython3",
   "version": "3.12.8"
  }
 },
 "nbformat": 4,
 "nbformat_minor": 5
}
